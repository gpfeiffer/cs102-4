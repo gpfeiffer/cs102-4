{
 "cells": [
  {
   "cell_type": "markdown",
   "metadata": {},
   "source": [
    "## CS102-4 - Further Computing\n",
    "\n",
    "Prof. Götz Pfeiffer<br>\n",
    "School of Mathematics, Statistics and Applied Mathematics<br>\n",
    "NUI Galway"
   ]
  },
  {
   "cell_type": "markdown",
   "metadata": {},
   "source": [
    "### 3. Aspects of Data Visualization\n",
    "\n",
    "# Week 9: Plotting Simple Line Plots"
   ]
  },
  {
   "cell_type": "markdown",
   "metadata": {},
   "source": [
    "We have already seen how a simple `plot` command, when applied to a `pandas` series or dataframe\n",
    "can produce a nice graphical representation of the contained data."
   ]
  },
  {
   "cell_type": "code",
   "execution_count": null,
   "metadata": {},
   "outputs": [],
   "source": [
    "import pandas as pd"
   ]
  },
  {
   "cell_type": "code",
   "execution_count": null,
   "metadata": {},
   "outputs": [],
   "source": [
    "pi = pd.Series([3,1,4,1,5,9,2,6,5,3,5,8,9,7,9,3,2,3,8,4,6,2,6,4,3,3,8,3,2,7,9])\n",
    "pi"
   ]
  },
  {
   "cell_type": "code",
   "execution_count": null,
   "metadata": {},
   "outputs": [],
   "source": [
    "pi.plot()"
   ]
  },
  {
   "cell_type": "markdown",
   "metadata": {},
   "source": [
    "Here, we are going to explore the basic features of the `matplotlib.pyplot` package that\n",
    "is responsible for drawing such graphs."
   ]
  },
  {
   "cell_type": "code",
   "execution_count": null,
   "metadata": {},
   "outputs": [],
   "source": [
    "import numpy as np\n",
    "import matplotlib.pyplot as plt"
   ]
  },
  {
   "cell_type": "markdown",
   "metadata": {},
   "source": [
    "## Anatomy of a Plot"
   ]
  },
  {
   "cell_type": "markdown",
   "metadata": {},
   "source": [
    "* For all `Matplotlib` plots, we start by creating a **figure** and an **axes**, either implicitly or explicitly."
   ]
  },
  {
   "cell_type": "markdown",
   "metadata": {},
   "source": [
    "<div class=\"alert alert-success\">\n",
    "\n",
    "* The **figure** is an instance of the class ``plt.Figure``.\n",
    "* It can be thought of as a single **container** that contains all the objects representing axes, graphics, text, and labels.\n",
    "* A plot has **one figure**.\n",
    "    \n",
    "</div>"
   ]
  },
  {
   "cell_type": "markdown",
   "metadata": {},
   "source": [
    "<div class=\"alert alert-info\">\n",
    "\n",
    "* The **axes** (plural of axis) is an instance of the class `plt.Axes`.\n",
    "* It is a **bounding box** with **ticks** and **labels**, representing an $x,y$-plane.\n",
    "* It will eventually contain the plot elements that make up our visualization.\n",
    "* Once we have created an axes, we can use the `ax.plot` function to plot some data.\n",
    "* A figure can have **several axes** instances.\n",
    "    \n",
    "</div>"
   ]
  },
  {
   "cell_type": "markdown",
   "metadata": {},
   "source": [
    "* We'll commonly use the variable name `fig` to refer to a figure instance, and `ax` to refer to an axes instance, or a group of axes instances.\n",
    "\n",
    "* In their simplest form, a figure and axes can be created as follows:"
   ]
  },
  {
   "cell_type": "code",
   "execution_count": null,
   "metadata": {},
   "outputs": [],
   "source": [
    "fig = plt.figure()\n",
    "ax = plt.axes()"
   ]
  },
  {
   "cell_type": "markdown",
   "metadata": {},
   "source": [
    "## Simple Line Plots"
   ]
  },
  {
   "cell_type": "markdown",
   "metadata": {},
   "source": [
    "* Perhaps the simplest of all plots is the visualization of a single function $y = f(x)$.\n",
    "* Let's start with a simple sine curve $f(x) = \\sin x$, for $0 \\leq x \\leq 10$, say:"
   ]
  },
  {
   "cell_type": "markdown",
   "metadata": {},
   "source": [
    "1. create the figure and the axes;\n",
    "2. define a `numpy` array of $x$-values\n",
    "3. plot the pairs of $x$-values with corresponding $y$-values on the axes"
   ]
  },
  {
   "cell_type": "code",
   "execution_count": null,
   "metadata": {},
   "outputs": [],
   "source": [
    "fig = plt.figure()\n",
    "ax = plt.axes()\n",
    "\n",
    "x = np.linspace(0, 10, 1000) # 1000 points between 0 and 10\n",
    "ax.plot(x, np.sin(x));"
   ]
  },
  {
   "cell_type": "markdown",
   "metadata": {},
   "source": [
    "* Note how reasonable defaults are chosen for the dimensions of the axes,\n",
    "the tick and the labels."
   ]
  },
  {
   "cell_type": "markdown",
   "metadata": {},
   "source": [
    "* The plot is contained in the `fig` object an can be redrawn at any time,\n",
    "albeit in a different physical space."
   ]
  },
  {
   "cell_type": "code",
   "execution_count": null,
   "metadata": {},
   "outputs": [],
   "source": [
    "fig"
   ]
  },
  {
   "cell_type": "markdown",
   "metadata": {},
   "source": [
    "* Alternatively, the `pylab` interface can create the figure and axes in the background."
   ]
  },
  {
   "cell_type": "code",
   "execution_count": null,
   "metadata": {},
   "outputs": [],
   "source": [
    "plt.plot(x, np.sin(x))"
   ]
  },
  {
   "cell_type": "markdown",
   "metadata": {},
   "source": [
    "* If we want to create a single figure with multiple lines, we can simply \n",
    "  call the ``plot`` function multiple times:"
   ]
  },
  {
   "cell_type": "code",
   "execution_count": null,
   "metadata": {},
   "outputs": [],
   "source": [
    "plt.plot(x, np.sin(x))\n",
    "plt.plot(x, np.cos(x)); # suppress output"
   ]
  },
  {
   "cell_type": "markdown",
   "metadata": {},
   "source": [
    "* The same on the existing `fig` and `ax` objects from above:"
   ]
  },
  {
   "cell_type": "code",
   "execution_count": null,
   "metadata": {},
   "outputs": [],
   "source": [
    "ax.plot(x, np.cos(x)) # add plot of cos\n",
    "fig  # redraw the figure"
   ]
  },
  {
   "cell_type": "markdown",
   "metadata": {},
   "source": [
    "## Adjusting the Plot: Line Colors and Styles"
   ]
  },
  {
   "cell_type": "markdown",
   "metadata": {},
   "source": [
    "* The `plt.plot()` function takes additional arguments that can be used to specify line colors and styles.\n",
    "* To adjust the **color**, use the `color` keyword, which accepts a color argument in a variety of ways."
   ]
  },
  {
   "cell_type": "code",
   "execution_count": null,
   "metadata": {},
   "outputs": [],
   "source": [
    "plt.plot(x, x + 0, color='blue')        # specify color by name\n",
    "plt.plot(x, x + 1, color='g')           # short color code (rgbcmyk)\n",
    "plt.plot(x, x + 2, color='0.75')        # Grayscale between 0 and 1\n",
    "plt.plot(x, x + 3, color='#FFDD44')     # Hex code (RRGGBB from 00 to FF)\n",
    "plt.plot(x, x + 4, color=(1.0,0.2,0.3)) # RGB tuple, values 0 to 1\n",
    "plt.plot(x, x + 5, color='chartreuse'); # all HTML color names supported"
   ]
  },
  {
   "cell_type": "markdown",
   "metadata": {},
   "source": [
    "* If no color is specified, `Matplotlib` will automatically cycle through a set of default colors for multiple lines."
   ]
  },
  {
   "cell_type": "code",
   "execution_count": null,
   "metadata": {},
   "outputs": [],
   "source": [
    "plt.plot(x, x + 0)\n",
    "plt.plot(x, x + 1)\n",
    "plt.plot(x, x + 2)\n",
    "plt.plot(x, x + 3)\n",
    "plt.plot(x, x + 4)\n",
    "plt.plot(x, x + 5);"
   ]
  },
  {
   "cell_type": "markdown",
   "metadata": {},
   "source": [
    "* The **line style** can be adjusted using the `linestyle` keyword:"
   ]
  },
  {
   "cell_type": "code",
   "execution_count": null,
   "metadata": {},
   "outputs": [],
   "source": [
    "plt.plot(x, x + 0, linestyle='solid')\n",
    "plt.plot(x, x + 1, linestyle='dashed')\n",
    "plt.plot(x, x + 2, linestyle='dashdot')\n",
    "plt.plot(x, x + 3, linestyle='dotted');"
   ]
  },
  {
   "cell_type": "markdown",
   "metadata": {},
   "source": [
    "* For short, one can use the following codes:"
   ]
  },
  {
   "cell_type": "code",
   "execution_count": null,
   "metadata": {},
   "outputs": [],
   "source": [
    "plt.plot(x, x + 4, linestyle='-')  # solid\n",
    "plt.plot(x, x + 5, linestyle='--') # dashed\n",
    "plt.plot(x, x + 6, linestyle='-.') # dashdot\n",
    "plt.plot(x, x + 7, linestyle=':');  # dotted"
   ]
  },
  {
   "cell_type": "markdown",
   "metadata": {},
   "source": [
    "* These ``linestyle`` and ``color`` codes can be combined into a single non-keyword argument:"
   ]
  },
  {
   "cell_type": "code",
   "execution_count": null,
   "metadata": {},
   "outputs": [],
   "source": [
    "plt.plot(x, x + 0, '-g')  # solid green\n",
    "plt.plot(x, x + 1, '--c') # dashed cyan\n",
    "plt.plot(x, x + 2, '-.k') # dashdot black\n",
    "plt.plot(x, x + 3, ':r');  # dotted red"
   ]
  },
  {
   "cell_type": "markdown",
   "metadata": {},
   "source": [
    "* These single-character color codes reflect the standard abbreviations in the RGB (**R**ed/**G**reen/**B**lue) and CMYK (**C**yan/**M**agenta/**Y**ellow/blac**K**) color systems, commonly used for digital color graphics."
   ]
  },
  {
   "cell_type": "code",
   "execution_count": null,
   "metadata": {},
   "outputs": [],
   "source": [
    "#?plt.plot"
   ]
  },
  {
   "cell_type": "markdown",
   "metadata": {},
   "source": [
    "## Adjusting the Plot: Axes Limits\n",
    "\n",
    "* The most basic way to adjust axis limits is to use the ``plt.xlim()`` and ``plt.ylim()`` methods:"
   ]
  },
  {
   "cell_type": "code",
   "execution_count": null,
   "metadata": {},
   "outputs": [],
   "source": [
    "plt.plot(x, np.sin(x))\n",
    "\n",
    "plt.xlim(-1, 11)\n",
    "plt.ylim(-1.5, 1.5);"
   ]
  },
  {
   "cell_type": "markdown",
   "metadata": {},
   "source": [
    "* If for some reason you'd like either axis to be displayed in reverse, you can simply reverse the order of the arguments.\n",
    "* Here, we plot a parabola with vertex $(5, -1)$, i.e., $y = \\frac1{10}(x-5)^2 - 1$, with $y$ ranging from $1.2$ down to $-1.2$:"
   ]
  },
  {
   "cell_type": "code",
   "execution_count": null,
   "metadata": {},
   "outputs": [],
   "source": [
    "plt.plot(x, 0.1*(x-5)**2-1)\n",
    "\n",
    "plt.xlim(10, 0)\n",
    "plt.ylim(1.2, -1.2);"
   ]
  },
  {
   "cell_type": "markdown",
   "metadata": {},
   "source": [
    "* A useful related method is ``plt.axis()`` (**axis** with an **i**).\n",
    "* The ``plt.axis()`` method allows you to set the ``x`` and ``y`` limits with a single call, by passing a list which specifies ``[xmin, xmax, ymin, ymax]``:"
   ]
  },
  {
   "cell_type": "code",
   "execution_count": null,
   "metadata": {},
   "outputs": [],
   "source": [
    "plt.plot(x, np.sin(x))\n",
    "plt.axis([-1, 11, -1.5, 1.5]);"
   ]
  },
  {
   "cell_type": "markdown",
   "metadata": {},
   "source": [
    "* The ``plt.axis()`` method goes beyond this, allowing you to do things like automatically tighten the bounds around the current plot:"
   ]
  },
  {
   "cell_type": "code",
   "execution_count": null,
   "metadata": {},
   "outputs": [],
   "source": [
    "plt.plot(x, np.sin(x))\n",
    "plt.axis('tight');"
   ]
  },
  {
   "cell_type": "markdown",
   "metadata": {},
   "source": [
    "* It allows even higher-level specifications, such as ensuring an equal aspect ratio so that on your screen, one unit in ``x`` is equal to one unit in ``y``:"
   ]
  },
  {
   "cell_type": "code",
   "execution_count": null,
   "metadata": {},
   "outputs": [],
   "source": [
    "plt.plot(x, np.sin(x))\n",
    "plt.axis('equal');"
   ]
  },
  {
   "cell_type": "code",
   "execution_count": null,
   "metadata": {},
   "outputs": [],
   "source": [
    "#plt.axis?"
   ]
  },
  {
   "cell_type": "markdown",
   "metadata": {},
   "source": [
    "## Titles, Labels, Legends\n",
    "\n",
    "* An axes can have a **title**, and its $x$- and $y$-axis can have **labels**.\n",
    "* There are methods that can be used to quickly set the title and axes labels:"
   ]
  },
  {
   "cell_type": "code",
   "execution_count": null,
   "metadata": {},
   "outputs": [],
   "source": [
    "plt.plot(x, np.sin(x))\n",
    "plt.title(\"y = sin(x)\")\n",
    "plt.xlabel(\"x\")\n",
    "plt.ylabel(\"y\");"
   ]
  },
  {
   "cell_type": "markdown",
   "metadata": {},
   "source": [
    "* The position, size, and style of these labels can be adjusted using optional arguments to the functions ..."
   ]
  },
  {
   "cell_type": "markdown",
   "metadata": {},
   "source": [
    "* When multiple lines are being shown within a single axes, it can be useful to create a plot **legend** that labels each line type.\n",
    "* The  `plt.legend()` method creates a legend.\n",
    "* The label of each line can be specified by using the `label` keyword of the `plot` function:"
   ]
  },
  {
   "cell_type": "code",
   "execution_count": null,
   "metadata": {},
   "outputs": [],
   "source": [
    "plt.plot(x, np.sin(x), '-g', label='sin(x)')\n",
    "plt.plot(x, np.cos(x), ':b', label='cos(x)')\n",
    "plt.axis('equal')\n",
    "\n",
    "plt.legend();"
   ]
  },
  {
   "cell_type": "markdown",
   "metadata": {},
   "source": [
    "* Note how the ``plt.legend()`` function keeps track of the line style and color, and matches these with the correct label."
   ]
  },
  {
   "cell_type": "code",
   "execution_count": null,
   "metadata": {},
   "outputs": [],
   "source": [
    "#plt.legend?"
   ]
  },
  {
   "cell_type": "markdown",
   "metadata": {},
   "source": [
    "## References"
   ]
  },
  {
   "cell_type": "markdown",
   "metadata": {},
   "source": [
    "### `matplotlib`"
   ]
  },
  {
   "cell_type": "markdown",
   "metadata": {},
   "source": [
    "* `plt.axis`: [[doc]](https://matplotlib.org/stable/api/_as_gen/matplotlib.pyplot.axis.html)\n",
    "\n",
    "\n",
    "* `plt.plot`: [[doc]](https://matplotlib.org/stable/api/_as_gen/matplotlib.pyplot.plot.html)\n",
    "\n",
    "\n",
    "* `plt.xlim`, `plt.ylim`: [[doc]](https://matplotlib.org/stable/api/_as_gen/matplotlib.pyplot.xlim.html)\n",
    "\n",
    "\n",
    "* `plt.legend`: [[doc]](https://matplotlib.org/stable/api/_as_gen/matplotlib.pyplot.legend.html)"
   ]
  },
  {
   "cell_type": "markdown",
   "metadata": {},
   "source": [
    "## Exercises"
   ]
  },
  {
   "cell_type": "markdown",
   "metadata": {},
   "source": [
    "1. Use suitable functions and ranges to plot a circle of radius $3$ around the centre $(1,1)$.\n",
    "\n",
    "2. Plot the rational function \n",
    "$$\n",
    "f(x) = \\frac{x^2 + x - 2}{x^3 + 6}\n",
    "$$\n",
    "and its derivative $f'(x)$ so that all interesting points (zeros, extreme values, inflection points, singularities, ...)\n",
    "are contained in the plot.\n",
    "\n",
    "3. Plot $f(x) = x^2 \\sin(\\pi/x)$ for $x$ in the range $[-0.3, 0.3]$."
   ]
  },
  {
   "cell_type": "code",
   "execution_count": null,
   "metadata": {},
   "outputs": [],
   "source": []
  }
 ],
 "metadata": {
  "kernelspec": {
   "display_name": "Python 3",
   "language": "python",
   "name": "python3"
  },
  "language_info": {
   "codemirror_mode": {
    "name": "ipython",
    "version": 3
   },
   "file_extension": ".py",
   "mimetype": "text/x-python",
   "name": "python",
   "nbconvert_exporter": "python",
   "pygments_lexer": "ipython3",
   "version": "3.7.6"
  }
 },
 "nbformat": 4,
 "nbformat_minor": 2
}
